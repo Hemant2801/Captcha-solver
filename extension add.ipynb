{
 "cells": [
  {
   "cell_type": "code",
   "execution_count": 119,
   "id": "7a15e3d7",
   "metadata": {},
   "outputs": [],
   "source": [
    "from selenium import webdriver\n",
    "from webdriver_manager.chrome import ChromeDriverManager\n",
    "from selenium.webdriver.common.by import By\n",
    "import time\n",
    "import keyboard\n",
    "from selenium.webdriver.common.action_chains import ActionChains\n",
    "import bs4 as bs\n",
    "import requests"
   ]
  },
  {
   "cell_type": "code",
   "execution_count": 17,
   "id": "3d4c40d8",
   "metadata": {},
   "outputs": [],
   "source": [
    "byPassUrl = 'https://goload.io/download?id=MTE0MjAz&typesub=Gogoanime-DUB&title=Naruto+%28Dub%29+Episode+50'\n",
    "\n",
    "option = webdriver.ChromeOptions()\n",
    "option.add_extension('buster.crx')\n",
    "option.add_argument('--disable-notifications')\n",
    "option.add_argument(\"--mute-audio\")\n",
    "driver = webdriver.Chrome(ChromeDriverManager().install(), options=option)"
   ]
  },
  {
   "cell_type": "code",
   "execution_count": 23,
   "id": "2fa3298b",
   "metadata": {},
   "outputs": [
    {
     "name": "stderr",
     "output_type": "stream",
     "text": [
      "C:\\Users\\Hemant\\AppData\\Local\\Temp\\ipykernel_732\\2852271969.py:1: DeprecationWarning: executable_path has been deprecated, please pass in a Service object\n",
      "  driver = webdriver.Chrome(ChromeDriverManager().install(), options=option)\n"
     ]
    },
    {
     "name": "stdout",
     "output_type": "stream",
     "text": [
      "Going to click\n",
      "Clicked\n",
      "Started\n",
      "Cliscked\n",
      "changed window\n"
     ]
    }
   ],
   "source": [
    "driver = webdriver.Chrome(ChromeDriverManager().install(), options=option)\n",
    "driver.get(byPassUrl)\n",
    "time.sleep(1)\n",
    "outeriframe = driver.find_element(By.TAG_NAME, 'iframe')\n",
    "time.sleep(1)\n",
    "print('Going to click')\n",
    "outeriframe.click()\n",
    "time.sleep(1)\n",
    "allIframesLen = driver.find_elements(By.TAG_NAME, 'iframe')\n",
    "# print('WHAT is this')\n",
    "time.sleep(1)\n",
    "\n",
    "delayTime = 1\n",
    "\n",
    "z = []\n",
    "download = []\n",
    "for index in range(len(allIframesLen)):\n",
    "    driver.switch_to.default_content()\n",
    "    iframe = driver.find_elements(By.TAG_NAME, 'iframe')[index]\n",
    "    driver.switch_to.frame(iframe)\n",
    "    driver.implicitly_wait(delayTime)\n",
    "    try:\n",
    "        audioBtn = driver.find_element(By.ID, 'recaptcha-audio-button') or driver.find_element(By.ID, 'recaptcha-anchor')\n",
    "        ed = ActionChains(driver)\n",
    "        ed.move_to_element(audioBtn).move_by_offset(50, 2).click().perform()\n",
    "        print('Clicked')\n",
    "    except Exception as e:\n",
    "        pass\n",
    "    \n",
    "time.sleep(2)\n",
    "print('Started')\n",
    "driver.switch_to.default_content()\n",
    "frame = driver.find_element(By.ID, 'btn-submit')\n",
    "ed = ActionChains(driver)\n",
    "ed.move_to_element(frame).click().perform()\n",
    "print('Cliscked')\n",
    "# time.sleep(5)\n",
    "driver.switch_to.window(driver.window_handles[0])\n",
    "print('changed window')"
   ]
  },
  {
   "cell_type": "code",
   "execution_count": 30,
   "id": "81244c51",
   "metadata": {},
   "outputs": [],
   "source": [
    "# driver = webdriver.Chrome(ChromeDriverManager().install(), options=option)\n",
    "\n",
    "def func():\n",
    "    delayTime = 1\n",
    "    driver.switch_to.default_content()\n",
    "    driver.get(byPassUrl)\n",
    "    time.sleep(delayTime)\n",
    "    outeriframe = driver.find_element(By.TAG_NAME, 'iframe')\n",
    "    time.sleep(delayTime)\n",
    "    outeriframe.click()\n",
    "    allIframesLen = driver.find_elements(By.TAG_NAME, 'iframe')\n",
    "    \n",
    "    for index in range(len(allIframesLen)):\n",
    "        driver.switch_to.default_content()\n",
    "        iframe = driver.find_elements(By.TAG_NAME, 'iframe')[index]\n",
    "        driver.switch_to.frame(iframe)\n",
    "        driver.implicitly_wait(delayTime)\n",
    "        try:\n",
    "            audioBtn = driver.find_element(By.ID, 'recaptcha-audio-button') or driver.find_element(By.ID, 'recaptcha-anchor')\n",
    "            ed = ActionChains(driver)\n",
    "            ed.move_to_element(audioBtn).move_by_offset(50, 2).click().perform()\n",
    "            time.sleep(delayTime + 2)\n",
    "        except Exception as e:\n",
    "            pass\n",
    "        \n",
    "        \n",
    "    time.sleep(delayTime + 2)\n",
    "    driver.switch_to.default_content()\n",
    "    frame = driver.find_element(By.ID, 'btn-submit')\n",
    "    ed = ActionChains(driver)\n",
    "    ed.move_to_element(frame).click().perform()\n",
    "    time.sleep(delayTime + 2)\n",
    "    driver.switch_to.window(driver.window_handles[0])\n",
    "    so = bs.BeautifulSoup(driver.page_source, 'html.parser')\n",
    "    return so"
   ]
  },
  {
   "cell_type": "code",
   "execution_count": null,
   "id": "a980da7e",
   "metadata": {},
   "outputs": [],
   "source": []
  }
 ],
 "metadata": {
  "kernelspec": {
   "display_name": "Python 3 (ipykernel)",
   "language": "python",
   "name": "python3"
  },
  "language_info": {
   "codemirror_mode": {
    "name": "ipython",
    "version": 3
   },
   "file_extension": ".py",
   "mimetype": "text/x-python",
   "name": "python",
   "nbconvert_exporter": "python",
   "pygments_lexer": "ipython3",
   "version": "3.8.8"
  }
 },
 "nbformat": 4,
 "nbformat_minor": 5
}
