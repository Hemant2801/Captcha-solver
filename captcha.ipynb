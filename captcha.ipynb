{
 "cells": [
  {
   "cell_type": "code",
   "execution_count": 1,
   "id": "e058d245",
   "metadata": {},
   "outputs": [],
   "source": [
    "from selenium import webdriver\n",
    "from selenium.webdriver.common.keys import Keys\n",
    "from webdriver_manager.chrome import ChromeDriverManager\n",
    "from selenium.webdriver.common.by import By\n",
    "import os, sys\n",
    "import time,requests\n",
    "from bs4 import BeautifulSoup\n",
    "import keyboard"
   ]
  },
  {
   "cell_type": "code",
   "execution_count": 5,
   "id": "b2f65ecb",
   "metadata": {},
   "outputs": [],
   "source": [
    "filename = 'test.mp3'\n",
    "delayTime = 2\n",
    "audioToTextDelay = 5\n",
    "# byPassUrl = 'https://www.google.com/recaptcha/api2/demo'\n",
    "byPassUrl = 'https://goload.io/download?id=MTE0MjAz&typesub=Gogoanime-DUB&title=Naruto+%28Dub%29+Episode+50'\n",
    "googleIBMLink = 'https://speech-to-text-demo.ng.bluemix.net/'\n",
    "option = webdriver.ChromeOptions()\n",
    "option.add_argument('--disable-notifications')\n",
    "option.add_argument(\"--mute-audio\")"
   ]
  },
  {
   "cell_type": "code",
   "execution_count": 6,
   "id": "2580bc46",
   "metadata": {},
   "outputs": [],
   "source": [
    "def saveFile(content,filename):\n",
    "    with open(filename, \"wb\") as handle:\n",
    "        for data in content.iter_content():\n",
    "            handle.write(data)\n",
    "            \n",
    "def speech_text(path):\n",
    "    driver.execute_script('''window.open(\"\",\"_blank\");''')\n",
    "    driver.switch_to.window(driver.window_handles[1])\n",
    "    print('1')\n",
    "    driver.get(googleIBMLink) # open the translator link\n",
    "    time.sleep(delayTime)\n",
    "    print('2')\n",
    "    root = driver.find_element_by_id('root').find_elements_by_class_name('dropzone _container _container_large')\n",
    "    btn = driver.find_element(By.XPATH, '//*[@id=\"root\"]/div/input')\n",
    "    time.sleep(delayTime)\n",
    "    btn.send_keys(f'C:\\\\Users\\\\{os.getlogin()}\\\\Downloads' + '/' + filename) # upload the files\n",
    "    \n",
    "    time.sleep(delayTime)\n",
    "    time.sleep(audioToTextDelay)\n",
    "    print('3')\n",
    "    text = driver.find_element(By.XPATH, '//*[@id=\"root\"]/div/div[7]/div/div/div').find_elements(By.TAG_NAME, 'span') # save the text data\n",
    "    time.sleep(delayTime)\n",
    "    result = \" \".join( [ each.text for each in text ] )\n",
    "    print(\"4\")\n",
    "    driver.close()\n",
    "    driver.switch_to.window(driver.window_handles[0])\n",
    "    print(\"5\")\n",
    "    os.remove(f'C:\\\\Users\\\\{os.getlogin()}\\\\Downloads' + '/' + filename)\n",
    "    return result"
   ]
  },
  {
   "cell_type": "code",
   "execution_count": 7,
   "id": "d97bc33b",
   "metadata": {
    "scrolled": false
   },
   "outputs": [
    {
     "name": "stderr",
     "output_type": "stream",
     "text": [
      "C:\\Users\\Hemant\\AppData\\Local\\Temp\\ipykernel_5748\\848637173.py:1: DeprecationWarning: executable_path has been deprecated, please pass in a Service object\n",
      "  driver = webdriver.Chrome(ChromeDriverManager().install(), options=option)\n"
     ]
    }
   ],
   "source": [
    "driver = webdriver.Chrome(ChromeDriverManager().install(), options=option)\n",
    "driver.get(byPassUrl)\n",
    "time.sleep(1)\n",
    "outeriframe = driver.find_element(By.TAG_NAME, 'iframe')\n",
    "time.sleep(1)\n",
    "# print('Going to click')\n",
    "outeriframe.click()\n",
    "# time.sleep(1)\n",
    "allIframesLen = driver.find_elements(By.TAG_NAME, 'iframe')\n",
    "# print('WHAT is this')\n",
    "time.sleep(1)\n",
    "audioBtnFound = False\n",
    "audioBtnIndex = -1\n",
    "\n",
    "for index in range(len(allIframesLen)):\n",
    "    driver.switch_to.default_content()\n",
    "#     print('Checking this')\n",
    "    iframe = driver.find_elements(By.TAG_NAME, 'iframe')[index]\n",
    "    driver.switch_to.frame(iframe)\n",
    "    driver.implicitly_wait(delayTime)\n",
    "    try:\n",
    "        audioBtn = driver.find_element(By.ID, 'recaptcha-audio-button') or driver.find_element(By.ID, 'recaptcha-anchor')\n",
    "        audioBtn.click()\n",
    "#         print('WANT TO CLICK')\n",
    "        audioBtnFound = True\n",
    "        audioBtnIndex = index\n",
    "        break\n",
    "    except Exception as e:\n",
    "        pass\n",
    "    \n",
    "if audioBtnFound == True:\n",
    "    try:\n",
    "        while True:\n",
    "            href = driver.find_element(By.ID, 'audio-source').get_attribute('src')\n",
    "            response = requests.get(href, stream=True)\n",
    "            saveFile(response,filename)\n",
    "            text = speech_text(f'C:\\\\Users\\\\{os.getlogin()}\\\\Downloads' + '/' + filename)\n",
    "            print(text)\n",
    "            driver.switch_to.default_content()\n",
    "            iframe = driver.find_elements(By.TAG_NAME, 'iframe')[audioBtnIndex]\n",
    "            driver.switch_to.frame(iframe)\n",
    "            inputbtn = driver.find_element(By.ID, 'audio-response')\n",
    "            inputbtn.send_keys(response)\n",
    "            inputbtn.send_keys(Keys.ENTER)\n",
    "            time.sleep(2)\n",
    "            errorMsg = driver.find_elements(By.CLASS_NAME, 'rc-audiochallenge-error-message')[0]\n",
    "            if errorMsg.text == \"\" or errorMsg.value_of_css_property('display') == 'none':\n",
    "                print(\"Success\")\n",
    "                break\n",
    "    except Exception as e:\n",
    "        pass\n",
    "#         print('!!!!!!!!Try after some time!!!!!!!!')\n",
    "else:\n",
    "    pass\n",
    "#     print('!!!!!!!!There is an error while proceeding. Try again!!!!!!!!.')\n",
    "    "
   ]
  },
  {
   "cell_type": "code",
   "execution_count": null,
   "id": "80fe2219",
   "metadata": {},
   "outputs": [],
   "source": []
  }
 ],
 "metadata": {
  "kernelspec": {
   "display_name": "Python 3 (ipykernel)",
   "language": "python",
   "name": "python3"
  },
  "language_info": {
   "codemirror_mode": {
    "name": "ipython",
    "version": 3
   },
   "file_extension": ".py",
   "mimetype": "text/x-python",
   "name": "python",
   "nbconvert_exporter": "python",
   "pygments_lexer": "ipython3",
   "version": "3.8.8"
  }
 },
 "nbformat": 4,
 "nbformat_minor": 5
}
